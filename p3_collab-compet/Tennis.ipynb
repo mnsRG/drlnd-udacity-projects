{
 "cells": [
  {
   "cell_type": "markdown",
   "metadata": {},
   "source": [
    "# Collaboration and Competition\n",
    "\n",
    "---\n",
    "\n",
    "In this notebook, you will learn how to use the Unity ML-Agents environment for the third project of the [Deep Reinforcement Learning Nanodegree](https://www.udacity.com/course/deep-reinforcement-learning-nanodegree--nd893) program.\n",
    "\n",
    "### 1. Start the Environment\n",
    "\n",
    "We begin by importing the necessary packages.  If the code cell below returns an error, please revisit the project instructions to double-check that you have installed [Unity ML-Agents](https://github.com/Unity-Technologies/ml-agents/blob/master/docs/Installation.md) and [NumPy](http://www.numpy.org/)."
   ]
  },
  {
   "cell_type": "code",
   "execution_count": 1,
   "metadata": {},
   "outputs": [],
   "source": [
    "from unityagents import UnityEnvironment"
   ]
  },
  {
   "cell_type": "markdown",
   "metadata": {},
   "source": [
    "Next, we will start the environment!  **_Before running the code cell below_**, change the `file_name` parameter to match the location of the Unity environment that you downloaded.\n",
    "\n",
    "- **Mac**: `\"path/to/Tennis.app\"`\n",
    "- **Windows** (x86): `\"path/to/Tennis_Windows_x86/Tennis.exe\"`\n",
    "- **Windows** (x86_64): `\"path/to/Tennis_Windows_x86_64/Tennis.exe\"`\n",
    "- **Linux** (x86): `\"path/to/Tennis_Linux/Tennis.x86\"`\n",
    "- **Linux** (x86_64): `\"path/to/Tennis_Linux/Tennis.x86_64\"`\n",
    "- **Linux** (x86, headless): `\"path/to/Tennis_Linux_NoVis/Tennis.x86\"`\n",
    "- **Linux** (x86_64, headless): `\"path/to/Tennis_Linux_NoVis/Tennis.x86_64\"`\n",
    "\n",
    "For instance, if you are using a Mac, then you downloaded `Tennis.app`.  If this file is in the same folder as the notebook, then the line below should appear as follows:\n",
    "```\n",
    "env = UnityEnvironment(file_name=\"Tennis.app\")\n",
    "```"
   ]
  },
  {
   "cell_type": "code",
   "execution_count": 2,
   "metadata": {},
   "outputs": [
    {
     "name": "stderr",
     "output_type": "stream",
     "text": [
      "INFO:unityagents:\n",
      "'Academy' started successfully!\n",
      "Unity Academy name: Academy\n",
      "        Number of Brains: 1\n",
      "        Number of External Brains : 1\n",
      "        Lesson number : 0\n",
      "        Reset Parameters :\n",
      "\t\t\n",
      "Unity brain name: TennisBrain\n",
      "        Number of Visual Observations (per agent): 0\n",
      "        Vector Observation space type: continuous\n",
      "        Vector Observation space size (per agent): 8\n",
      "        Number of stacked Vector Observation: 3\n",
      "        Vector Action space type: continuous\n",
      "        Vector Action space size (per agent): 2\n",
      "        Vector Action descriptions: , \n"
     ]
    }
   ],
   "source": [
    "env = UnityEnvironment(file_name=\"Tennis.app\")"
   ]
  },
  {
   "cell_type": "markdown",
   "metadata": {},
   "source": [
    "Environments contain **_brains_** which are responsible for deciding the actions of their associated agents. Here we check for the first brain available, and set it as the default brain we will be controlling from Python."
   ]
  },
  {
   "cell_type": "code",
   "execution_count": 3,
   "metadata": {},
   "outputs": [],
   "source": [
    "# get the default brain\n",
    "brain_name = env.brain_names[0]\n",
    "brain = env.brains[brain_name]"
   ]
  },
  {
   "cell_type": "markdown",
   "metadata": {},
   "source": [
    "### 2. Examine the State and Action Spaces\n",
    "\n",
    "In this environment, two agents control rackets to bounce a ball over a net. If an agent hits the ball over the net, it receives a reward of +0.1.  If an agent lets a ball hit the ground or hits the ball out of bounds, it receives a reward of -0.01.  Thus, the goal of each agent is to keep the ball in play.\n",
    "\n",
    "The observation space consists of 8 variables corresponding to the position and velocity of the ball and racket. Two continuous actions are available, corresponding to movement toward (or away from) the net, and jumping. \n",
    "\n",
    "Run the code cell below to print some information about the environment."
   ]
  },
  {
   "cell_type": "code",
   "execution_count": 4,
   "metadata": {},
   "outputs": [
    {
     "name": "stdout",
     "output_type": "stream",
     "text": [
      "Number of agents: 2\n",
      "Size of each action: 2\n",
      "There are 2 agents. Each observes a state with length: 24\n",
      "The state for the first agent looks like: [ 0.          0.          0.          0.          0.          0.\n",
      "  0.          0.          0.          0.          0.          0.\n",
      "  0.          0.          0.          0.         -6.65278625 -1.5\n",
      " -0.          0.          6.83172083  6.         -0.          0.        ]\n"
     ]
    }
   ],
   "source": [
    "# reset the environment\n",
    "env_info = env.reset(train_mode=True)[brain_name]\n",
    "# number of agents \n",
    "num_agents = len(env_info.agents)\n",
    "print('Number of agents:', num_agents)\n",
    "# size of each action\n",
    "action_size = brain.vector_action_space_size\n",
    "print('Size of each action:', action_size)\n",
    "# examine the state space \n",
    "states = env_info.vector_observations\n",
    "state_size = states.shape[1]\n",
    "print('There are {} agents. Each observes a state with length: {}'.format(states.shape[0], state_size))\n",
    "print('The state for the first agent looks like:', states[0])"
   ]
  },
  {
   "cell_type": "markdown",
   "metadata": {},
   "source": [
    "### 3. Take Random Actions in the Environment\n",
    "\n",
    "In the next code cell, you will learn how to use the Python API to control the agents and receive feedback from the environment.\n",
    "\n",
    "Once this cell is executed, you will watch the agents' performance, if they select actions at random with each time step.  A window should pop up that allows you to observe the agents.\n",
    "\n",
    "Of course, as part of the project, you'll have to change the code so that the agents are able to use their experiences to gradually choose better actions when interacting with the environment!"
   ]
  },
  {
   "cell_type": "code",
   "execution_count": 5,
   "metadata": {},
   "outputs": [
    {
     "name": "stdout",
     "output_type": "stream",
     "text": [
      "Score (max over agents) from episode 1: 0.0\n",
      "Score (max over agents) from episode 2: 0.09000000171363354\n",
      "Score (max over agents) from episode 3: 0.10000000149011612\n",
      "Score (max over agents) from episode 4: 0.0\n",
      "Score (max over agents) from episode 5: 0.0\n"
     ]
    }
   ],
   "source": [
    "for i in range(1, 6):                                      # play game for 5 episodes\n",
    "    env_info = env.reset(train_mode=False)[brain_name]     # reset the environment    \n",
    "    states = env_info.vector_observations                  # get the current state (for each agent)\n",
    "    scores = np.zeros(num_agents)                          # initialize the score (for each agent)\n",
    "    while True:\n",
    "        actions = np.random.randn(num_agents, action_size) # select an action (for each agent)\n",
    "        actions = np.clip(actions, -1, 1)                  # all actions between -1 and 1\n",
    "        env_info = env.step(actions)[brain_name]           # send all actions to tne environment\n",
    "        next_states = env_info.vector_observations         # get next state (for each agent)\n",
    "        rewards = env_info.rewards                         # get reward (for each agent)\n",
    "        dones = env_info.local_done                        # see if episode finished\n",
    "        scores += env_info.rewards                         # update the score (for each agent)\n",
    "        states = next_states                               # roll over states to next time step\n",
    "        if np.any(dones):                                  # exit loop if episode finished\n",
    "            break\n",
    "    print('Score (max over agents) from episode {}: {}'.format(i, np.max(scores)))"
   ]
  },
  {
   "cell_type": "code",
   "execution_count": 7,
   "metadata": {},
   "outputs": [],
   "source": [
    "env.close()"
   ]
  },
  {
   "cell_type": "markdown",
   "metadata": {},
   "source": [
    "### 4. It's Your Turn!\n",
    "\n",
    "Now it's your turn to train your own agent to solve the environment!  When training the environment, set `train_mode=True`, so that the line for resetting the environment looks like the following:\n",
    "```python\n",
    "env_info = env.reset(train_mode=True)[brain_name]\n",
    "```"
   ]
  },
  {
   "cell_type": "code",
   "execution_count": 6,
   "metadata": {},
   "outputs": [],
   "source": [
    "from maddpg import MADDPG\n",
    "from ddpg import *\n",
    "import os\n",
    "import matplotlib.pyplot as plt\n",
    "%matplotlib inline\n",
    "\n",
    "model_dir= os.getcwd()+\"/model_dir\"\n",
    "os.makedirs(model_dir, exist_ok=True)"
   ]
  },
  {
   "cell_type": "code",
   "execution_count": 7,
   "metadata": {},
   "outputs": [],
   "source": [
    "number_of_episodes = 5000\n",
    "buffer_size = 1000000\n",
    "batch_size = 64\n",
    "lr_actor = 0.001\n",
    "lr_critic = 0.0001\n",
    "tau = 0.008\n",
    "gamma = 0.99\n",
    "update_every = 1\n",
    "update_steps = 1\n",
    "noise = 2\n",
    "noise_reduction = 0.97\n",
    "seed = 0"
   ]
  },
  {
   "cell_type": "code",
   "execution_count": 2,
   "metadata": {},
   "outputs": [
    {
     "name": "stdout",
     "output_type": "stream",
     "text": [
      "Episode 0100 - Average Score of the last 100 episodes: 0.0\n",
      "Episode 0200 - Average Score of the last 100 episodes: 0.004\n",
      "Episode 0300 - Average Score of the last 100 episodes: 0.009\n",
      "Episode 0400 - Average Score of the last 100 episodes: 0.002\n",
      "Episode 0500 - Average Score of the last 100 episodes: 0.036\n",
      "Episode 0600 - Average Score of the last 100 episodes: 0.054\n",
      "Episode 0700 - Average Score of the last 100 episodes: 0.04\n",
      "Episode 0800 - Average Score of the last 100 episodes: 0.054\n",
      "Episode 0900 - Average Score of the last 100 episodes: 0.051\n",
      "Episode 1000 - Average Score of the last 100 episodes: 0.057\n",
      "Episode 1100 - Average Score of the last 100 episodes: 0.063\n",
      "Episode 1200 - Average Score of the last 100 episodes: 0.092\n",
      "Episode 1300 - Average Score of the last 100 episodes: 0.109\n",
      "Episode 1400 - Average Score of the last 100 episodes: 0.113\n",
      "Episode 1500 - Average Score of the last 100 episodes: 0.093\n",
      "Episode 1600 - Average Score of the last 100 episodes: 0.086\n",
      "Episode 1700 - Average Score of the last 100 episodes: 0.092\n",
      "Episode 1800 - Average Score of the last 100 episodes: 0.125\n",
      "Episode 1900 - Average Score of the last 100 episodes: 0.127\n",
      "Episode 2000 - Average Score of the last 100 episodes: 0.132\n",
      "Episode 2100 - Average Score of the last 100 episodes: 0.147\n",
      "Episode 2200 - Average Score of the last 100 episodes: 0.199\n",
      "Episode 2300 - Average Score of the last 100 episodes: 0.188\n",
      "Episode 2400 - Average Score of the last 100 episodes: 0.235\n",
      "Episode 2500 - Average Score of the last 100 episodes: 0.331\n",
      "Episode 2600 - Average Score of the last 100 episodes: 0.312\n",
      "Episode 2700 - Average Score of the last 100 episodes: 0.27\n",
      "Episode 2800 - Average Score of the last 100 episodes: 0.301\n",
      "Episode 2900 - Average Score of the last 100 episodes: 0.129\n",
      "Episode 3000 - Average Score of the last 100 episodes: 0.162\n",
      "Episode 3100 - Average Score of the last 100 episodes: 0.173\n",
      "Episode 3200 - Average Score of the last 100 episodes: 0.185\n",
      "Episode 3300 - Average Score of the last 100 episodes: 0.165\n",
      "Episode 3400 - Average Score of the last 100 episodes: 0.182\n",
      "Episode 3500 - Average Score of the last 100 episodes: 0.147\n",
      "Episode 3600 - Average Score of the last 100 episodes: 0.236\n",
      "Episode 3700 - Average Score of the last 100 episodes: 0.258\n",
      "Episode 3800 - Average Score of the last 100 episodes: 0.345\n",
      "\n",
      "Solved at Episode 3838 - Average Score of the last 100 episodes: 0.5033000076003372\n",
      "Episode 3900 - Average Score of the last 100 episodes: 0.553\n",
      "Episode 4000 - Average Score of the last 100 episodes: 0.418\n",
      "Episode 4100 - Average Score of the last 100 episodes: 0.366\n",
      "Episode 4200 - Average Score of the last 100 episodes: 0.208\n",
      "Episode 4300 - Average Score of the last 100 episodes: 0.282\n",
      "Episode 4400 - Average Score of the last 100 episodes: 0.312\n",
      "Episode 4500 - Average Score of the last 100 episodes: 0.406\n",
      "Episode 4600 - Average Score of the last 100 episodes: 0.383\n",
      "Episode 4700 - Average Score of the last 100 episodes: 0.372\n",
      "Episode 4800 - Average Score of the last 100 episodes: 0.324\n",
      "Episode 4900 - Average Score of the last 100 episodes: 0.292\n",
      "Episode 5000 - Average Score of the last 100 episodes: 0.388\n"
     ]
    }
   ],
   "source": [
    "np.random.seed(seed)\n",
    "torch.manual_seed(seed)\n",
    "maddpg = MADDPG(gamma,tau,buffer_size,batch_size,update_every,update_steps,noise,noise_reduction,lr_actor,lr_critic)\n",
    "\n",
    "scores_deque = deque(maxlen=100)\n",
    "scores_all = []\n",
    "scores_mean = []\n",
    "best_mean = -1000\n",
    "solved_state = False\n",
    "\n",
    "for episode in range(1,number_of_episodes+1): \n",
    "    env_info = env.reset(train_mode=True)[brain_name]\n",
    "    observations = env_info.vector_observations\n",
    "    scores = np.zeros(num_agents)\n",
    "    while True:\n",
    "        maddpg.reset_noises()\n",
    "        actions = maddpg.act(observations)\n",
    "        env_info = env.step(actions)[brain_name]\n",
    "        next_observations = env_info.vector_observations\n",
    "        rewards = env_info.rewards\n",
    "        dones = env_info.local_done\n",
    "        transition = (observations, actions, rewards, next_observations, dones)\n",
    "        maddpg.step(transition)\n",
    "        scores += rewards\n",
    "        observations = next_observations\n",
    "        if np.any(dones):\n",
    "            break\n",
    "    max_score = np.max(scores)\n",
    "    scores_deque.append(max_score)\n",
    "    avg_score = np.mean(scores_deque)\n",
    "    scores_all.append(max_score)\n",
    "    scores_mean.append(avg_score)\n",
    "    if avg_score >= 0.5 and avg_score>best_mean:\n",
    "        if not solved_state:\n",
    "            print(f'\\nSolved at Episode {episode} - Average Score of the last 100 episodes: {avg_score}')\n",
    "            solved_state = True\n",
    "        maddpg.save_weights(model_dir)\n",
    "        best_mean = avg_score\n",
    "    if (episode)%100==0:\n",
    "        avg_score = np.round(np.mean(scores_deque),3)\n",
    "        print(f'Episode {format(episode, \"04d\")} - Average Score of the last 100 episodes: {avg_score}')"
   ]
  },
  {
   "cell_type": "markdown",
   "metadata": {},
   "source": [
    "### 5. Plot Results"
   ]
  },
  {
   "cell_type": "code",
   "execution_count": 10,
   "metadata": {},
   "outputs": [
    {
     "data": {
      "image/png": "[encoded data removed]",
      "text/plain": [
       "<Figure size 1008x432 with 1 Axes>"
      ]
     },
     "metadata": {
      "needs_background": "light"
     },
     "output_type": "display_data"
    }
   ],
   "source": [
    "# plot the scores\n",
    "fig = plt.figure(figsize=(14,6))\n",
    "ax = fig.add_subplot(111)\n",
    "plt.plot(np.arange(len(scores_all)), scores_all, c='b', label='Scores')\n",
    "plt.plot(np.arange(len(scores_mean)), scores_mean, c='r', label='Average Scores')\n",
    "plt.ylabel('Score')\n",
    "plt.xlabel('Episode #')\n",
    "plt.legend(loc='upper left');\n",
    "plt.grid()\n",
    "plt.savefig('./plots/plot.png')\n",
    "plt.show()"
   ]
  },
  {
   "cell_type": "markdown",
   "metadata": {},
   "source": [
    "### 6. Watch Trained Agents"
   ]
  },
  {
   "cell_type": "code",
   "execution_count": 6,
   "metadata": {},
   "outputs": [],
   "source": [
    "from maddpg import MADDPG\n",
    "from ddpg import *\n",
    "import os\n",
    "model_dir= os.getcwd()+\"/model_dir\""
   ]
  },
  {
   "cell_type": "code",
   "execution_count": 10,
   "metadata": {},
   "outputs": [
    {
     "name": "stdout",
     "output_type": "stream",
     "text": [
      "Episode 1\tScore: 1.2000000178813934\t\n",
      "Episode 2\tScore: 0.5000000074505806\t\n",
      "Episode 3\tScore: 0.10000000149011612\t\n",
      "Episode 4\tScore: 0.19000000320374966\t\n",
      "Episode 5\tScore: 1.700000025331974\t\n",
      "Episode 6\tScore: 0.20000000298023224\t\n",
      "Episode 7\tScore: 0.2900000046938658\t\n",
      "Episode 8\tScore: 1.3000000193715096\t\n",
      "Episode 9\tScore: 0.30000000447034836\t\n",
      "Episode 10\tScore: 1.4000000208616257\t\n"
     ]
    }
   ],
   "source": [
    "max_episodes = 10\n",
    "maddpg_trained = MADDPG(noise=0)\n",
    "maddpg_trained.load_weights(model_dir)\n",
    "random_actions = False\n",
    "\n",
    "for i in range(1, max_episodes+1):\n",
    "    env_info = env.reset(train_mode=False)[brain_name]\n",
    "    scores = np.zeros(num_agents)\n",
    "    while True:\n",
    "        states = env_info.vector_observations\n",
    "        if random_actions : \n",
    "            actions = np.random.randn(num_agents, action_size)\n",
    "        else:\n",
    "            actions = maddpg_trained.act(states)\n",
    "        env_info = env.step(actions)[brain_name]\n",
    "        scores += env_info.rewards\n",
    "        states = env_info.vector_observations\n",
    "        if any(env_info.local_done):\n",
    "            break\n",
    "    print(f'\\rEpisode {i}\\tScore: {scores.max()}\\t')"
   ]
  },
  {
   "cell_type": "code",
   "execution_count": null,
   "metadata": {},
   "outputs": [],
   "source": []
  }
 ],
 "metadata": {
  "kernelspec": {
   "display_name": "Python 3",
   "language": "python",
   "name": "python3"
  },
  "language_info": {
   "codemirror_mode": {
    "name": "ipython",
    "version": 3
   },
   "file_extension": ".py",
   "mimetype": "text/x-python",
   "name": "python",
   "nbconvert_exporter": "python",
   "pygments_lexer": "ipython3",
   "version": "3.7.7"
  }
 },
 "nbformat": 4,
 "nbformat_minor": 4
}
